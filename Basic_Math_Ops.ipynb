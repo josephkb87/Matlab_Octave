{
 "cells": [
  {
   "cell_type": "code",
   "execution_count": null,
   "id": "a88bda80",
   "metadata": {},
   "outputs": [],
   "source": [
    "# Mathematical Operations\n",
    "8+3\n",
    "7+4\n",
    "7/4\n",
    "\n",
    "3^4\n",
    "#This is one way of commenting\n",
    "# In MATLAB comments start with amodulus operator"
   ]
  },
  {
   "cell_type": "code",
   "execution_count": null,
   "id": "b7c97773",
   "metadata": {},
   "outputs": [],
   "source": []
  }
 ],
 "metadata": {
  "kernelspec": {
   "display_name": "Octave",
   "language": "octave",
   "name": "octave"
  }
 },
 "nbformat": 4,
 "nbformat_minor": 5
}
