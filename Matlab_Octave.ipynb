{
 "cells": [
  {
   "cell_type": "code",
   "execution_count": null,
   "id": "f0410ab6",
   "metadata": {},
   "outputs": [],
   "source": [
    "8+3\n"
   ]
  },
  {
   "cell_type": "code",
   "execution_count": null,
   "id": "fb98b7d1",
   "metadata": {},
   "outputs": [],
   "source": []
  }
 ],
 "metadata": {
  "kernelspec": {
   "display_name": "Octave",
   "language": "octave",
   "name": "octave"
  }
 },
 "nbformat": 4,
 "nbformat_minor": 5
}
